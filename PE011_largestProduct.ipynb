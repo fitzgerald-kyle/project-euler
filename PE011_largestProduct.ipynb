{
 "cells": [
  {
   "cell_type": "markdown",
   "id": "0891f0f4-00cb-48cc-83c1-792971c8a0e5",
   "metadata": {},
   "source": [
    "In the 20×20 grid in PE011_largestProduct.txt, four numbers along a diagonal line have (not) been marked in red.\n",
    "\n",
    "The product of these numbers is 26 × 63 × 78 × 14 = 1788696.\n",
    "\n",
    "What is the greatest product of four adjacent numbers in the same direction (up, down, left, right, or diagonally) in the 20×20 grid?"
   ]
  },
  {
   "cell_type": "code",
   "execution_count": 4,
   "id": "1e437ea5-f81d-4d02-9649-f95b95af7093",
   "metadata": {},
   "outputs": [],
   "source": [
    "import numpy as np\n",
    "import itertools as it"
   ]
  },
  {
   "cell_type": "code",
   "execution_count": 8,
   "id": "61dfcea5-a05a-4160-b84e-9f013851bcb6",
   "metadata": {},
   "outputs": [],
   "source": [
    "grid = np.loadtxt('PE011_largestProduct.txt', dtype=int)\n",
    "gridSize = 20\n",
    "\n",
    "largestProd = 0\n",
    "\n",
    "# scan rows and columns\n",
    "for i,j in it.product(range(gridSize), range(gridSize-4)):\n",
    "    rowProdVal = np.prod(grid[i,j:j+4])\n",
    "    colProdVal = np.prod(grid[j:j+4,i])\n",
    "    if max(rowProdVal, colProdVal) > largestProd:\n",
    "        largestProd = max(rowProdVal, colProdVal)\n",
    "        \n",
    "# scan rightward and leftward diagonals\n",
    "for i,j in it.product(range(gridSize-4), range(gridSize-4)):\n",
    "    rightDiagProdVal = np.prod([grid[i+n,j+n] for n in range(4)])\n",
    "    leftDiagProdVal = np.prod([grid[i+n,j-n+4] for n in range(4)])\n",
    "    if max(rightDiagProdVal, leftDiagProdVal) > largestProd:\n",
    "        largestProd = max(rightDiagProdVal, leftDiagProdVal)"
   ]
  },
  {
   "cell_type": "code",
   "execution_count": 9,
   "id": "04de62d7-72bc-4b70-aef6-6090d040d0ad",
   "metadata": {},
   "outputs": [
    {
     "data": {
      "text/plain": [
       "70600674"
      ]
     },
     "execution_count": 9,
     "metadata": {},
     "output_type": "execute_result"
    }
   ],
   "source": [
    "largestProd"
   ]
  },
  {
   "cell_type": "code",
   "execution_count": null,
   "id": "dd46656b-ca3c-4ca9-abdf-bd86903e3a7d",
   "metadata": {},
   "outputs": [],
   "source": []
  }
 ],
 "metadata": {
  "kernelspec": {
   "display_name": "Python 3",
   "language": "python",
   "name": "python3"
  },
  "language_info": {
   "codemirror_mode": {
    "name": "ipython",
    "version": 3
   },
   "file_extension": ".py",
   "mimetype": "text/x-python",
   "name": "python",
   "nbconvert_exporter": "python",
   "pygments_lexer": "ipython3",
   "version": "3.8.8"
  }
 },
 "nbformat": 4,
 "nbformat_minor": 5
}
