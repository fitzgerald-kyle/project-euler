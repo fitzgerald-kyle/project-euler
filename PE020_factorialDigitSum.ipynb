{
 "cells": [
  {
   "cell_type": "markdown",
   "id": "e1024bcb-9b67-4d41-a388-be6428b78487",
   "metadata": {},
   "source": [
    "n! means n × (n − 1) × ... × 3 × 2 × 1\n",
    "\n",
    "For example, 10! = 10 × 9 × ... × 3 × 2 × 1 = 3628800,\n",
    "and the sum of the digits in the number 10! is 3 + 6 + 2 + 8 + 8 + 0 + 0 = 27.\n",
    "\n",
    "Find the sum of the digits in the number 100!"
   ]
  },
  {
   "cell_type": "code",
   "execution_count": 11,
   "id": "92b20a45-95d3-46e6-9888-2f0e4685830c",
   "metadata": {},
   "outputs": [],
   "source": [
    "import math"
   ]
  },
  {
   "cell_type": "code",
   "execution_count": 17,
   "id": "f07f1875-63d6-4d0b-be44-5867821c5391",
   "metadata": {},
   "outputs": [],
   "source": [
    "# Fortunately/unfortunately I can benefit from using Python. Use the tools you have to your advantage, right?\n",
    "digits = [int(s) for s in str(math.factorial(100))]"
   ]
  },
  {
   "cell_type": "code",
   "execution_count": 18,
   "id": "b1abf1ec-01a8-424b-8f6a-61346854c5eb",
   "metadata": {},
   "outputs": [
    {
     "data": {
      "text/plain": [
       "648"
      ]
     },
     "execution_count": 18,
     "metadata": {},
     "output_type": "execute_result"
    }
   ],
   "source": [
    "sum(digits)"
   ]
  },
  {
   "cell_type": "code",
   "execution_count": null,
   "id": "69f823d4-9d28-4287-9530-5cc402539cbf",
   "metadata": {},
   "outputs": [],
   "source": []
  }
 ],
 "metadata": {
  "kernelspec": {
   "display_name": "Python 3",
   "language": "python",
   "name": "python3"
  },
  "language_info": {
   "codemirror_mode": {
    "name": "ipython",
    "version": 3
   },
   "file_extension": ".py",
   "mimetype": "text/x-python",
   "name": "python",
   "nbconvert_exporter": "python",
   "pygments_lexer": "ipython3",
   "version": "3.8.8"
  }
 },
 "nbformat": 4,
 "nbformat_minor": 5
}
