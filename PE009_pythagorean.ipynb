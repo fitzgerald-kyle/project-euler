{
 "cells": [
  {
   "cell_type": "markdown",
   "id": "218d5ea8-a7e1-4039-bfef-e07de9d59283",
   "metadata": {},
   "source": [
    "There exists exactly one Pythagorean triplet for which a + b + c = 1000.\n",
    "Find the product abc."
   ]
  },
  {
   "cell_type": "code",
   "execution_count": 1,
   "id": "81df033b-bc16-4911-bd30-ec159af63dc0",
   "metadata": {},
   "outputs": [],
   "source": [
    "# Substituting the constraint into the Pythagorean theorem gives \n",
    "# (1000-b-c)^2 + b^2 = c^2   -->   1E6 = 2000(b+c) - 2b(b+c) = 2(1000-b)(b+c)   -->   5E5 = (1000-b)(b+c)."
   ]
  },
  {
   "cell_type": "code",
   "execution_count": 2,
   "id": "e8a2c8b6-6d16-4c97-85b0-ce10953fd803",
   "metadata": {},
   "outputs": [],
   "source": [
    "def returnBandC():\n",
    "    for b in range(1,1001):\n",
    "        for c in range(1,1001-b):\n",
    "            if (1000-b)*(b+c) == 5e5:\n",
    "                return b,c"
   ]
  },
  {
   "cell_type": "code",
   "execution_count": 4,
   "id": "2ee587f7-8f28-475c-9ad1-0a2bfc8dd832",
   "metadata": {},
   "outputs": [
    {
     "data": {
      "text/plain": [
       "31875000"
      ]
     },
     "execution_count": 4,
     "metadata": {},
     "output_type": "execute_result"
    }
   ],
   "source": [
    "b,c = returnBandC()\n",
    "(1000-b-c)*b*c"
   ]
  },
  {
   "cell_type": "code",
   "execution_count": null,
   "id": "eb631529-bbc1-4b1f-997f-08db8752b8de",
   "metadata": {},
   "outputs": [],
   "source": []
  }
 ],
 "metadata": {
  "kernelspec": {
   "display_name": "Python 3",
   "language": "python",
   "name": "python3"
  },
  "language_info": {
   "codemirror_mode": {
    "name": "ipython",
    "version": 3
   },
   "file_extension": ".py",
   "mimetype": "text/x-python",
   "name": "python",
   "nbconvert_exporter": "python",
   "pygments_lexer": "ipython3",
   "version": "3.8.8"
  }
 },
 "nbformat": 4,
 "nbformat_minor": 5
}
