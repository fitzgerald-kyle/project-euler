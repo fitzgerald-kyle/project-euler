{
 "cells": [
  {
   "cell_type": "markdown",
   "id": "3c4558d3-624b-4004-b442-0c888d802a39",
   "metadata": {},
   "source": [
    "Starting in the top left corner of a 2×2 grid, and only being able to move to the right and down, there are exactly 6 routes to the bottom right corner.\n",
    "\n",
    "How many such routes are there through a 20×20 grid?"
   ]
  },
  {
   "cell_type": "code",
   "execution_count": 2,
   "id": "f3b22711-9b6a-4566-b309-58c91089f2ad",
   "metadata": {},
   "outputs": [],
   "source": [
    "# We don't need much code to answer this: for an n x n grid, our path must have length 2n, and there are n degrees \n",
    "# of freedom in choosing our path (e.g. consider moving all the way to the right before making our first move\n",
    "# downward -- we've made n choices, and the rest of our path is determined), so there are (2n choose n) possible\n",
    "# paths."
   ]
  },
  {
   "cell_type": "code",
   "execution_count": 3,
   "id": "a296345b-5700-4218-a078-bd2bea7d7bb0",
   "metadata": {},
   "outputs": [],
   "source": [
    "import math"
   ]
  },
  {
   "cell_type": "code",
   "execution_count": 4,
   "id": "765c76e5-1f47-4e75-947b-9386e5e26f5b",
   "metadata": {},
   "outputs": [],
   "source": [
    "n = 20\n",
    "numPaths = math.comb(2*n, n)"
   ]
  },
  {
   "cell_type": "code",
   "execution_count": 5,
   "id": "7f6a50ef-7ebd-4ab0-ba50-4944e313bbea",
   "metadata": {},
   "outputs": [
    {
     "data": {
      "text/plain": [
       "137846528820"
      ]
     },
     "execution_count": 5,
     "metadata": {},
     "output_type": "execute_result"
    }
   ],
   "source": [
    "numPaths"
   ]
  },
  {
   "cell_type": "code",
   "execution_count": null,
   "id": "94b88145-94d7-4ec2-9182-65de1dba2b7a",
   "metadata": {},
   "outputs": [],
   "source": []
  }
 ],
 "metadata": {
  "kernelspec": {
   "display_name": "Python 3",
   "language": "python",
   "name": "python3"
  },
  "language_info": {
   "codemirror_mode": {
    "name": "ipython",
    "version": 3
   },
   "file_extension": ".py",
   "mimetype": "text/x-python",
   "name": "python",
   "nbconvert_exporter": "python",
   "pygments_lexer": "ipython3",
   "version": "3.8.8"
  }
 },
 "nbformat": 4,
 "nbformat_minor": 5
}
