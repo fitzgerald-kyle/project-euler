{
 "cells": [
  {
   "cell_type": "markdown",
   "id": "86a8076c-015c-4ac8-99d3-ae6483f1bd1a",
   "metadata": {},
   "source": [
    "Find the sum of all multiples of 3 or 5 below 1000."
   ]
  },
  {
   "cell_type": "code",
   "execution_count": 7,
   "id": "77d709a4-43fe-44dd-823f-f9314aac058d",
   "metadata": {},
   "outputs": [],
   "source": [
    "N = 1000\n",
    "\n",
    "multSum = 0\n",
    "for i in range(1,N):\n",
    "    if (i % 3 == 0) or (i % 5 == 0):\n",
    "        multSum += i"
   ]
  },
  {
   "cell_type": "code",
   "execution_count": 8,
   "id": "c5bafb2f-0fc1-4a03-a31c-b8f9d769944d",
   "metadata": {},
   "outputs": [
    {
     "data": {
      "text/plain": [
       "233168"
      ]
     },
     "execution_count": 8,
     "metadata": {},
     "output_type": "execute_result"
    }
   ],
   "source": [
    "multSum"
   ]
  },
  {
   "cell_type": "code",
   "execution_count": null,
   "id": "d73fb277-8b3f-4589-9226-50df2b3e5b3a",
   "metadata": {},
   "outputs": [],
   "source": []
  }
 ],
 "metadata": {
  "kernelspec": {
   "display_name": "Python 3",
   "language": "python",
   "name": "python3"
  },
  "language_info": {
   "codemirror_mode": {
    "name": "ipython",
    "version": 3
   },
   "file_extension": ".py",
   "mimetype": "text/x-python",
   "name": "python",
   "nbconvert_exporter": "python",
   "pygments_lexer": "ipython3",
   "version": "3.8.8"
  }
 },
 "nbformat": 4,
 "nbformat_minor": 5
}
