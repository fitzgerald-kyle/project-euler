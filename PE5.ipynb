{
 "cells": [
  {
   "cell_type": "markdown",
   "id": "beb48ffb-e3a0-4cab-ac28-104a74125a54",
   "metadata": {},
   "source": [
    "2520 is the smallest number that can be divided by each of the numbers from 1 to 10 without any remainder.\n",
    "\n",
    "What is the smallest positive number that is evenly divisible by all of the numbers from 1 to 20?"
   ]
  },
  {
   "cell_type": "code",
   "execution_count": 25,
   "id": "4de0ed91-ac5b-455b-b231-08448b8a79b6",
   "metadata": {},
   "outputs": [],
   "source": [
    "# Notice: we can find the prime factorization of each number 1 through 20, store the occurence of the highest\n",
    "# multiple of each prime factor, and multiply all of these highest-multiple occurences together.\n",
    "N = 20\n",
    "\n",
    "primeDict = dict.fromkeys([2,3,5,7,11,13,17], 0)\n",
    "for prime in primeDict:\n",
    "    # keep track of the highest number of times that 'prime' divides any of 2 through 20\n",
    "    highestMult = 0\n",
    "    for n in range(2,N+1):\n",
    "        # keep track of the number of times that 'prime' divides 'n'\n",
    "        mult = 0\n",
    "        start = n\n",
    "        while (start / prime) % 1 == 0:\n",
    "            mult += 1\n",
    "            start /= prime\n",
    "        if mult > highestMult:\n",
    "            highestMult = mult\n",
    "    # store highest multiple result in primes dictionary\n",
    "    primeDict[prime] = highestMult\n",
    "    \n",
    "smallestDivisible = 1\n",
    "for key, val in primeDict.items():\n",
    "    smallestDivisible *= key**val"
   ]
  },
  {
   "cell_type": "code",
   "execution_count": 26,
   "id": "523e9703-b1c0-4488-baa3-6fb6ffb9b081",
   "metadata": {},
   "outputs": [
    {
     "data": {
      "text/plain": [
       "12252240"
      ]
     },
     "execution_count": 26,
     "metadata": {},
     "output_type": "execute_result"
    }
   ],
   "source": [
    "smallestDivisible"
   ]
  },
  {
   "cell_type": "code",
   "execution_count": 27,
   "id": "3766bca8-f789-4273-9bb4-8131309fddcf",
   "metadata": {},
   "outputs": [
    {
     "data": {
      "text/plain": [
       "12252240"
      ]
     },
     "execution_count": 27,
     "metadata": {},
     "output_type": "execute_result"
    }
   ],
   "source": [
    "2*2*2*2*3*3*5*7*11*13*17"
   ]
  },
  {
   "cell_type": "code",
   "execution_count": null,
   "id": "c2801137-e816-4a87-92f9-3104e30b059b",
   "metadata": {},
   "outputs": [],
   "source": []
  }
 ],
 "metadata": {
  "kernelspec": {
   "display_name": "Python 3",
   "language": "python",
   "name": "python3"
  },
  "language_info": {
   "codemirror_mode": {
    "name": "ipython",
    "version": 3
   },
   "file_extension": ".py",
   "mimetype": "text/x-python",
   "name": "python",
   "nbconvert_exporter": "python",
   "pygments_lexer": "ipython3",
   "version": "3.8.8"
  }
 },
 "nbformat": 4,
 "nbformat_minor": 5
}
