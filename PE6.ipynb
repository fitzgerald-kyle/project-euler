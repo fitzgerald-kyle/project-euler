{
 "cells": [
  {
   "cell_type": "markdown",
   "id": "88488565-fb31-4319-aa83-6300404b04f8",
   "metadata": {},
   "source": [
    "Find the difference between the sum of the squares of the first one hundred natural numbers and the square of the sum."
   ]
  },
  {
   "cell_type": "code",
   "execution_count": 3,
   "id": "075bde70-6c70-4a0a-984f-6ea36a94f9f0",
   "metadata": {},
   "outputs": [],
   "source": [
    "# We know that the sum of the first N natural numbers is n(n+1)/2, and one can also find that the sum of the first\n",
    "# N squares is n(n+1)(2n+1)/6.\n",
    "N = 100\n",
    "result = (N*(N+1)/2)**2 - N*(N+1)*(2*N+1)/6"
   ]
  },
  {
   "cell_type": "code",
   "execution_count": 4,
   "id": "e173cd51-ef1e-470b-a4e1-b93dd2003257",
   "metadata": {},
   "outputs": [
    {
     "data": {
      "text/plain": [
       "25164150.0"
      ]
     },
     "execution_count": 4,
     "metadata": {},
     "output_type": "execute_result"
    }
   ],
   "source": [
    "result"
   ]
  },
  {
   "cell_type": "code",
   "execution_count": null,
   "id": "6c2075ec-4394-4717-96d8-9567b8620295",
   "metadata": {},
   "outputs": [],
   "source": []
  }
 ],
 "metadata": {
  "kernelspec": {
   "display_name": "Python 3",
   "language": "python",
   "name": "python3"
  },
  "language_info": {
   "codemirror_mode": {
    "name": "ipython",
    "version": 3
   },
   "file_extension": ".py",
   "mimetype": "text/x-python",
   "name": "python",
   "nbconvert_exporter": "python",
   "pygments_lexer": "ipython3",
   "version": "3.8.8"
  }
 },
 "nbformat": 4,
 "nbformat_minor": 5
}
