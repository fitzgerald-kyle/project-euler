{
 "cells": [
  {
   "cell_type": "markdown",
   "id": "b4690203-f385-4c30-9ce8-911af3162185",
   "metadata": {},
   "source": [
    "Using PE99.txt, a 22K text file containing one thousand lines with a base/exponent pair on each line, determine which line number has the greatest numerical value."
   ]
  },
  {
   "cell_type": "code",
   "execution_count": 1,
   "id": "f8e05847-057d-412a-a48d-d6cabd283c8f",
   "metadata": {},
   "outputs": [],
   "source": [
    "import math"
   ]
  },
  {
   "cell_type": "code",
   "execution_count": 9,
   "id": "94d3aed2-db7b-4120-b84a-6f14e4fbb63c",
   "metadata": {},
   "outputs": [
    {
     "name": "stdout",
     "output_type": "stream",
     "text": [
      "709\n"
     ]
    }
   ],
   "source": [
    "# store given bases and exponents\n",
    "basesAndExps = []\n",
    "with open('PE99.txt','r') as f:\n",
    "    for line in f.readlines():\n",
    "        basesAndExps.append( list(map(int,line.split(','))) )\n",
    "\n",
    "# print line number with highest value, using the monotonicity of the logarithm\n",
    "bestVal = 0\n",
    "bestLine = -1\n",
    "for n in range(len(basesAndExps)):\n",
    "    val = basesAndExps[n][1]*math.log(basesAndExps[n][0])\n",
    "    if val > bestVal:\n",
    "        bestVal = val\n",
    "        bestLine = n\n",
    "        \n",
    "print(bestLine+1)"
   ]
  },
  {
   "cell_type": "code",
   "execution_count": null,
   "id": "5bc168bd-12ab-46f4-a6c0-12ea8b2a9eb1",
   "metadata": {},
   "outputs": [],
   "source": []
  }
 ],
 "metadata": {
  "kernelspec": {
   "display_name": "Python 3",
   "language": "python",
   "name": "python3"
  },
  "language_info": {
   "codemirror_mode": {
    "name": "ipython",
    "version": 3
   },
   "file_extension": ".py",
   "mimetype": "text/x-python",
   "name": "python",
   "nbconvert_exporter": "python",
   "pygments_lexer": "ipython3",
   "version": "3.8.8"
  }
 },
 "nbformat": 4,
 "nbformat_minor": 5
}
