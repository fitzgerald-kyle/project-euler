{
 "cells": [
  {
   "cell_type": "markdown",
   "id": "2c122340-2fa6-447f-8a57-45bea0146085",
   "metadata": {},
   "source": [
    "What is the 10 001st prime number?"
   ]
  },
  {
   "cell_type": "code",
   "execution_count": 4,
   "id": "d3954b7b-21fc-42e3-b5da-f09e7cf28626",
   "metadata": {},
   "outputs": [],
   "source": [
    "import math"
   ]
  },
  {
   "cell_type": "code",
   "execution_count": null,
   "id": "64278488-7425-4bb7-9b42-7b7a4babb7a9",
   "metadata": {},
   "outputs": [],
   "source": [
    "# Note that prime numbers cannot be even, and we only need to check factors up to sqrt(N).\n",
    "nthPrime = 10001\n",
    "\n",
    "# let's start at 11 just for the heck of it\n",
    "count = 4\n",
    "currNum = 11\n",
    "while count < nthPrime:\n",
    "    for factor in range(3,math.sqrt(currNum)+1)"
   ]
  },
  {
   "cell_type": "code",
   "execution_count": 3,
   "id": "db6114c7-6fb0-4dd9-b3c9-1d59eddaaf8a",
   "metadata": {},
   "outputs": [
    {
     "data": {
      "text/plain": [
       "[3, 5]"
      ]
     },
     "execution_count": 3,
     "metadata": {},
     "output_type": "execute_result"
    }
   ],
   "source": [
    "[x for x in range(3,6,2)]"
   ]
  },
  {
   "cell_type": "code",
   "execution_count": null,
   "id": "59cbc0e2-92ea-48f2-9562-bf87b92a91c7",
   "metadata": {},
   "outputs": [],
   "source": []
  }
 ],
 "metadata": {
  "kernelspec": {
   "display_name": "Python 3",
   "language": "python",
   "name": "python3"
  },
  "language_info": {
   "codemirror_mode": {
    "name": "ipython",
    "version": 3
   },
   "file_extension": ".py",
   "mimetype": "text/x-python",
   "name": "python",
   "nbconvert_exporter": "python",
   "pygments_lexer": "ipython3",
   "version": "3.8.8"
  }
 },
 "nbformat": 4,
 "nbformat_minor": 5
}
