{
 "cells": [
  {
   "cell_type": "markdown",
   "id": "f2ffe752-14ea-43ac-bb4f-ba96020893f1",
   "metadata": {},
   "source": [
    "The following iterative sequence is defined for the set of positive integers:\n",
    "\n",
    "n → n/2 (n is even)\n",
    "\n",
    "n → 3n + 1 (n is odd)\n",
    "\n",
    "Using the rule above and starting with 13, we generate the following sequence:\n",
    "13 → 40 → 20 → 10 → 5 → 16 → 8 → 4 → 2 → 1\n",
    "\n",
    "It can be seen that this sequence (starting at 13 and finishing at 1) contains 10 terms. Although it has not been proved yet (Collatz Problem), it is thought that all starting numbers finish at 1.\n",
    "\n",
    "Which starting number, under one million, produces the longest chain?\n",
    "\n",
    "NOTE: Once the chain starts the terms are allowed to go above one million."
   ]
  },
  {
   "cell_type": "code",
   "execution_count": 17,
   "id": "fe7b88a3-8ce7-4c85-900a-1952795f8994",
   "metadata": {},
   "outputs": [],
   "source": [
    "# return the next element in the Collatz sequence\n",
    "def nextCollatz(n):\n",
    "    if n % 2 == 0:\n",
    "        n /= 2\n",
    "    else:\n",
    "        n = 3*n + 1\n",
    "        \n",
    "    return int(n)"
   ]
  },
  {
   "cell_type": "code",
   "execution_count": 36,
   "id": "2b283e28-3561-4071-a5ce-98fab9f40dbb",
   "metadata": {},
   "outputs": [],
   "source": [
    "maxStart = int(1e6)\n",
    "\n",
    "seen = {1: 1}  # store each starting number and the associated Collatz length\n",
    "maxLen = 1\n",
    "maxLenID = 1\n",
    "for n in range(2,maxStart):\n",
    "    currVal = n\n",
    "    unseen = []  # store unseen values in order (so we can store their lengths in the for loop below)\n",
    "    while currVal not in seen:\n",
    "        unseen.append(currVal)\n",
    "        currVal = nextCollatz(currVal)\n",
    "        \n",
    "    for i,val in enumerate(unseen):\n",
    "        seen[val] = len(unseen) - i + seen[currVal]\n",
    "        \n",
    "    if seen[n] > maxLen:\n",
    "        maxLen = seen[n]\n",
    "        maxLenID = n"
   ]
  },
  {
   "cell_type": "code",
   "execution_count": 37,
   "id": "29bfadd6-9509-4b7e-9b9b-36c45a2456c7",
   "metadata": {},
   "outputs": [
    {
     "data": {
      "text/plain": [
       "525"
      ]
     },
     "execution_count": 37,
     "metadata": {},
     "output_type": "execute_result"
    }
   ],
   "source": [
    "maxLen"
   ]
  },
  {
   "cell_type": "code",
   "execution_count": 38,
   "id": "ca9a99ec-84fa-4eb1-94ec-cda92331fde1",
   "metadata": {},
   "outputs": [
    {
     "data": {
      "text/plain": [
       "837799"
      ]
     },
     "execution_count": 38,
     "metadata": {},
     "output_type": "execute_result"
    }
   ],
   "source": [
    "maxLenID"
   ]
  },
  {
   "cell_type": "code",
   "execution_count": null,
   "id": "9560d67b-462e-4ef4-954c-b0191fb86339",
   "metadata": {},
   "outputs": [],
   "source": []
  }
 ],
 "metadata": {
  "kernelspec": {
   "display_name": "Python 3",
   "language": "python",
   "name": "python3"
  },
  "language_info": {
   "codemirror_mode": {
    "name": "ipython",
    "version": 3
   },
   "file_extension": ".py",
   "mimetype": "text/x-python",
   "name": "python",
   "nbconvert_exporter": "python",
   "pygments_lexer": "ipython3",
   "version": "3.8.8"
  }
 },
 "nbformat": 4,
 "nbformat_minor": 5
}
