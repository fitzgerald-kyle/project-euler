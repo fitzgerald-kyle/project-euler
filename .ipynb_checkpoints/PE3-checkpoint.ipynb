{
 "cells": [
  {
   "cell_type": "markdown",
   "id": "7f3469fb-99f7-4376-a9c9-0ee23fa8450a",
   "metadata": {},
   "source": [
    "What is the largest prime factor of the number 600851475143 ?"
   ]
  },
  {
   "cell_type": "code",
   "execution_count": 2,
   "id": "9f576703-f1d7-4bd3-adc0-a7f4917a37b1",
   "metadata": {},
   "outputs": [],
   "source": [
    "import math"
   ]
  },
  {
   "cell_type": "code",
   "execution_count": 16,
   "id": "9d0682b9-7069-4f69-bbdf-42ff546554ef",
   "metadata": {},
   "outputs": [],
   "source": [
    "# return the largest prime factor of n\n",
    "def largestPrimeFactor(n):\n",
    "    # note that n cannot have any factors larger than floor(sqrt(n))\n",
    "    upperBound = int(math.sqrt(n))\n",
    "    # largest prime could only be odd, unless it's 2 (we'll ignore that for this particular problem)\n",
    "    if upperBound % 2 == 0:\n",
    "        upperBound -= 1\n",
    "    \n",
    "    guess = upperBound\n",
    "    while guess > 1:\n",
    "        if n % guess == 0:\n",
    "            largestGuessPF = largestPrimeFactor(guess)\n",
    "            if largestGuessPF == 1:\n",
    "                return guess\n",
    "        \n",
    "        guess -= 2\n",
    "    \n",
    "    return 1        "
   ]
  },
  {
   "cell_type": "code",
   "execution_count": 17,
   "id": "3205d84c-3528-4e42-861b-cb3db316af60",
   "metadata": {},
   "outputs": [
    {
     "data": {
      "text/plain": [
       "6857"
      ]
     },
     "execution_count": 17,
     "metadata": {},
     "output_type": "execute_result"
    }
   ],
   "source": [
    "largestPrimeFactor(600851475143)"
   ]
  },
  {
   "cell_type": "code",
   "execution_count": null,
   "id": "0d75ab43-6f2f-48f0-a53c-2ccedb0afd24",
   "metadata": {},
   "outputs": [],
   "source": []
  }
 ],
 "metadata": {
  "kernelspec": {
   "display_name": "Python 3",
   "language": "python",
   "name": "python3"
  },
  "language_info": {
   "codemirror_mode": {
    "name": "ipython",
    "version": 3
   },
   "file_extension": ".py",
   "mimetype": "text/x-python",
   "name": "python",
   "nbconvert_exporter": "python",
   "pygments_lexer": "ipython3",
   "version": "3.8.8"
  }
 },
 "nbformat": 4,
 "nbformat_minor": 5
}
