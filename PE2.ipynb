{
 "cells": [
  {
   "cell_type": "markdown",
   "id": "f4471b85-6ee4-4825-9281-7694aab4c897",
   "metadata": {},
   "source": [
    "By considering the terms in the Fibonacci sequence whose values do not exceed four million, find the sum of the even-valued terms."
   ]
  },
  {
   "cell_type": "code",
   "execution_count": 9,
   "id": "f21a0321-c98a-4e85-bbbe-0fe5092d3d7c",
   "metadata": {},
   "outputs": [],
   "source": [
    "prevFib = 1\n",
    "fib = 2\n",
    "fibSum = 2\n",
    "while fib <= 4e6:\n",
    "    fib += prevFib\n",
    "    prevFib = fib-prevFib\n",
    "    if fib % 2 == 0:\n",
    "        fibSum += fib"
   ]
  },
  {
   "cell_type": "code",
   "execution_count": 10,
   "id": "d2411f21-225e-4495-b6d4-0e58d185cff3",
   "metadata": {},
   "outputs": [
    {
     "data": {
      "text/plain": [
       "4613732"
      ]
     },
     "execution_count": 10,
     "metadata": {},
     "output_type": "execute_result"
    }
   ],
   "source": [
    "fibSum"
   ]
  },
  {
   "cell_type": "code",
   "execution_count": null,
   "id": "22d433a4-9299-4ce2-9030-513f4653ed2d",
   "metadata": {},
   "outputs": [],
   "source": []
  }
 ],
 "metadata": {
  "kernelspec": {
   "display_name": "Python 3",
   "language": "python",
   "name": "python3"
  },
  "language_info": {
   "codemirror_mode": {
    "name": "ipython",
    "version": 3
   },
   "file_extension": ".py",
   "mimetype": "text/x-python",
   "name": "python",
   "nbconvert_exporter": "python",
   "pygments_lexer": "ipython3",
   "version": "3.8.8"
  }
 },
 "nbformat": 4,
 "nbformat_minor": 5
}
