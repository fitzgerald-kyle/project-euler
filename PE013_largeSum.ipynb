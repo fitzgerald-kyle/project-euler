{
 "cells": [
  {
   "cell_type": "markdown",
   "id": "dc29ed5d-5b04-43b1-a668-c142d23e6d0e",
   "metadata": {},
   "source": [
    "Work out the first ten digits of the sum of the one-hundred 50-digit numbers in PE013_largeSum.txt."
   ]
  },
  {
   "cell_type": "code",
   "execution_count": 4,
   "id": "ae404021-bf15-46fb-9205-a4f18e3aeb40",
   "metadata": {},
   "outputs": [],
   "source": [
    "terms = []\n",
    "with open('PE013_largeSum.txt','r') as f:\n",
    "    for line in f.readlines():\n",
    "        terms.append(int(line))\n",
    "        \n",
    "sumTot = 0\n",
    "for _,val in enumerate(terms):\n",
    "    sumTot += val"
   ]
  },
  {
   "cell_type": "code",
   "execution_count": 5,
   "id": "4ebf3c68-7a48-4faf-aca2-4d8e88dc8053",
   "metadata": {},
   "outputs": [
    {
     "data": {
      "text/plain": [
       "'5537376230'"
      ]
     },
     "execution_count": 5,
     "metadata": {},
     "output_type": "execute_result"
    }
   ],
   "source": [
    "str(sumTot)[:10]"
   ]
  },
  {
   "cell_type": "code",
   "execution_count": null,
   "id": "7a3540a4-3567-4ed1-96c0-e6411423ed04",
   "metadata": {},
   "outputs": [],
   "source": []
  }
 ],
 "metadata": {
  "kernelspec": {
   "display_name": "Python 3",
   "language": "python",
   "name": "python3"
  },
  "language_info": {
   "codemirror_mode": {
    "name": "ipython",
    "version": 3
   },
   "file_extension": ".py",
   "mimetype": "text/x-python",
   "name": "python",
   "nbconvert_exporter": "python",
   "pygments_lexer": "ipython3",
   "version": "3.8.8"
  }
 },
 "nbformat": 4,
 "nbformat_minor": 5
}
