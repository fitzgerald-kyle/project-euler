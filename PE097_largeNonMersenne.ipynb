{
 "cells": [
  {
   "cell_type": "markdown",
   "id": "89a22207-7420-4fc9-88a6-f35e9f5a533d",
   "metadata": {},
   "source": [
    "The first known prime found to exceed one million digits was discovered in 1999, and is a Mersenne prime of the form 2^6972593−1; it contains exactly 2,098,960 digits. Subsequently other Mersenne primes, of the form 2^p−1, have been found which contain more digits.\n",
    "\n",
    "However, in 2004 there was found a massive non-Mersenne prime which contains 2,357,207 digits: 28433×2^7830457+1.\n",
    "\n",
    "Find the last ten digits of this prime number."
   ]
  },
  {
   "cell_type": "code",
   "execution_count": 5,
   "id": "186efa5b-14f7-4562-9d8e-9adfed567f1b",
   "metadata": {},
   "outputs": [],
   "source": [
    "# Perhaps the simplest method is to only keep the last 10 digits every time we mutliply by 2.\n",
    "\n",
    "mult = 28433\n",
    "exp = 7830457\n",
    "\n",
    "for n in range(exp):\n",
    "    mult *= 2\n",
    "    mult %= int(1e10)"
   ]
  },
  {
   "cell_type": "code",
   "execution_count": 7,
   "id": "e2d4c52e-2fe0-456c-8f3c-76caf0df379d",
   "metadata": {},
   "outputs": [
    {
     "data": {
      "text/plain": [
       "8739992577"
      ]
     },
     "execution_count": 7,
     "metadata": {},
     "output_type": "execute_result"
    }
   ],
   "source": [
    "mult+1"
   ]
  },
  {
   "cell_type": "code",
   "execution_count": null,
   "id": "c306b29e-a719-40fc-b85d-35288bec335d",
   "metadata": {},
   "outputs": [],
   "source": []
  }
 ],
 "metadata": {
  "kernelspec": {
   "display_name": "Python 3",
   "language": "python",
   "name": "python3"
  },
  "language_info": {
   "codemirror_mode": {
    "name": "ipython",
    "version": 3
   },
   "file_extension": ".py",
   "mimetype": "text/x-python",
   "name": "python",
   "nbconvert_exporter": "python",
   "pygments_lexer": "ipython3",
   "version": "3.8.8"
  }
 },
 "nbformat": 4,
 "nbformat_minor": 5
}
