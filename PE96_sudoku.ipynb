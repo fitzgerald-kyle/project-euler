{
 "cells": [
  {
   "cell_type": "markdown",
   "id": "df0f9cf6-03f7-4280-b2a2-c431c96e865b",
   "metadata": {},
   "source": [
    "The 6K text file, PE96_sudoku.txt, contains fifty different Su Doku puzzles ranging in difficulty, but all with unique solutions (the first puzzle in the file is the example above).\n",
    "\n",
    "By solving all fifty puzzles find the sum of the 3-digit numbers found in the top left corner of each solution grid; for example, 483 is the 3-digit number found in the top left corner of the solution grid above."
   ]
  },
  {
   "cell_type": "code",
   "execution_count": 3,
   "id": "d70c6ac1-ab1d-4502-b814-1ef3c64e44bc",
   "metadata": {},
   "outputs": [],
   "source": [
    "import copy"
   ]
  },
  {
   "cell_type": "code",
   "execution_count": 4,
   "id": "5cd14185-dfda-469d-ba61-6417d90c58c4",
   "metadata": {},
   "outputs": [],
   "source": [
    "# return all IDs in index i's row, column, and square\n",
    "def rowColSquareIDs(i):\n",
    "    rowIDs = list(range(i-i%9, i-i%9+9))\n",
    "    colIDs = list(range(i%9, 81, 9))\n",
    "    rowInSquare = ((i-i%9)//9)%3\n",
    "    colInSquare = (i%9)%3\n",
    "    squareIDs = list(range(i-9*rowInSquare-colInSquare, i-9*rowInSquare-colInSquare+3)) + \\\n",
    "                list(range(i-9*rowInSquare-colInSquare+9, i-9*rowInSquare-colInSquare+9+3)) + \\\n",
    "                list(range(i-9*rowInSquare-colInSquare+18, i-9*rowInSquare-colInSquare+18+3))\n",
    "    return rowIDs + colIDs + squareIDs"
   ]
  },
  {
   "cell_type": "code",
   "execution_count": 35,
   "id": "e7173b87-6561-4aa2-bdaa-356c303cc650",
   "metadata": {},
   "outputs": [],
   "source": [
    "# generate a list of lists in which each position contains all possible entries for the corresponding ID\n",
    "def generateInitialOptions(board):\n",
    "    options = [0]*81\n",
    "    for ID,val in enumerate(board):\n",
    "        if val == 0:\n",
    "            options[ID] = list(range(1,10))\n",
    "        else:\n",
    "            options[ID] = val\n",
    "\n",
    "    for ID in range(81):\n",
    "        if board[ID] == 0:\n",
    "            relevantIDs = rowColSquareIDs(ID)\n",
    "            for j in relevantIDs:\n",
    "                try:\n",
    "                    options[ID].remove(board[j])\n",
    "                except ValueError:\n",
    "                    pass\n",
    "                \n",
    "    return options"
   ]
  },
  {
   "cell_type": "code",
   "execution_count": 36,
   "id": "add2374b-fb21-406b-820b-81e09ffc11ff",
   "metadata": {},
   "outputs": [],
   "source": [
    "# remove 'val' from the entries relevant to 'ID' (row, col, square) and set ID's value to 'val'\n",
    "def removeChoice(ID, val, options):\n",
    "    relevantIDs = rowColSquareIDs(ID)\n",
    "    for j in relevantIDs:\n",
    "        try:\n",
    "            options[j].remove(val)\n",
    "        except (ValueError, AttributeError) as e:\n",
    "            pass\n",
    "        \n",
    "    options[ID] = val\n",
    "    \n",
    "    return options"
   ]
  },
  {
   "cell_type": "code",
   "execution_count": 23,
   "id": "d9433495-c8c2-4071-8479-93544056fd81",
   "metadata": {},
   "outputs": [],
   "source": [
    "def makeAMove(options):\n",
    "    if not all(options): # return if there are spaces with no available options; conflict is 'True'\n",
    "        return options, True\n",
    "    elif all([type(x) == int for x in options]): # return if the puzzle is solved; conflict is 'False'\n",
    "        return options, False\n",
    "    \n",
    "    unmoved = dict() # store undecided IDs and their values\n",
    "    for ID,elem in enumerate(options):\n",
    "        if type(elem) == list:\n",
    "            unmoved[ID] = elem\n",
    "\n",
    "    # pick out the first ID with the fewest number of options\n",
    "    numOptions = 1\n",
    "    guessIDs = []\n",
    "    while not guessIDs:\n",
    "        guessIDs = [ID for ID in unmoved if len(unmoved[ID]) == numOptions]\n",
    "        numOptions += 1\n",
    "    guessID = guessIDs[0]\n",
    "    \n",
    "    # try each value that guessID might take on until one works\n",
    "    for val in unmoved[guessID]:\n",
    "        newOptions = copy.deepcopy(options)\n",
    "        newOptions, conflict = makeAMove(removeChoice(guessID, val, newOptions))\n",
    "            \n",
    "        if conflict:\n",
    "            continue\n",
    "        else: \n",
    "            return newOptions, False\n",
    "            \n",
    "    return options, True"
   ]
  },
  {
   "cell_type": "code",
   "execution_count": 37,
   "id": "283db8d7-4a3f-4b48-9526-06b46294410b",
   "metadata": {},
   "outputs": [],
   "source": [
    "# Solve a single game, where 'board' is a list of rows concatenated end-to-end. The undetermined entries contain\n",
    "# zeros.\n",
    "def sudokuSolver(board):\n",
    "    # for each slot, generate an initial list of the possible entries\n",
    "    options = generateInitialOptions(board)\n",
    "    \n",
    "    # determine the correct entry or make a guess for a particular slot, and update list of possible entries\n",
    "    soln, _ = makeAMove(options)\n",
    "\n",
    "    return soln"
   ]
  },
  {
   "cell_type": "code",
   "execution_count": 33,
   "id": "0f2af125-4475-4717-ace6-da034e940e57",
   "metadata": {},
   "outputs": [
    {
     "name": "stdout",
     "output_type": "stream",
     "text": [
      "Puzzle 1 solved!\n",
      "Puzzle 2 solved!\n",
      "Puzzle 3 solved!\n",
      "Puzzle 4 solved!\n",
      "Puzzle 5 solved!\n",
      "Puzzle 6 solved!\n",
      "Puzzle 7 solved!\n",
      "Puzzle 8 solved!\n",
      "Puzzle 9 solved!\n",
      "Puzzle 10 solved!\n",
      "Puzzle 11 solved!\n",
      "Puzzle 12 solved!\n",
      "Puzzle 13 solved!\n",
      "Puzzle 14 solved!\n",
      "Puzzle 15 solved!\n",
      "Puzzle 16 solved!\n",
      "Puzzle 17 solved!\n",
      "Puzzle 18 solved!\n",
      "Puzzle 19 solved!\n",
      "Puzzle 20 solved!\n",
      "Puzzle 21 solved!\n",
      "Puzzle 22 solved!\n",
      "Puzzle 23 solved!\n",
      "Puzzle 24 solved!\n",
      "Puzzle 25 solved!\n",
      "Puzzle 26 solved!\n",
      "Puzzle 27 solved!\n",
      "Puzzle 28 solved!\n",
      "Puzzle 29 solved!\n",
      "Puzzle 30 solved!\n",
      "Puzzle 31 solved!\n",
      "Puzzle 32 solved!\n",
      "Puzzle 33 solved!\n",
      "Puzzle 34 solved!\n",
      "Puzzle 35 solved!\n",
      "Puzzle 36 solved!\n",
      "Puzzle 37 solved!\n",
      "Puzzle 38 solved!\n",
      "Puzzle 39 solved!\n",
      "Puzzle 40 solved!\n",
      "Puzzle 41 solved!\n",
      "Puzzle 42 solved!\n",
      "Puzzle 43 solved!\n",
      "Puzzle 44 solved!\n",
      "Puzzle 45 solved!\n",
      "Puzzle 46 solved!\n",
      "Puzzle 47 solved!\n",
      "Puzzle 48 solved!\n",
      "Puzzle 49 solved!\n",
      "Puzzle 50 solved!\n"
     ]
    }
   ],
   "source": [
    "count = 1\n",
    "totSum = 0 # keep track of the sum of the 3-digit number in the top left of each puzzle\n",
    "with open('PE96_sudoku.txt','r') as f:\n",
    "    for i,line in enumerate(f.readlines()):\n",
    "        if i%10 == 0:\n",
    "            board = []\n",
    "        else:\n",
    "            board += line.replace('\\n','')\n",
    "            \n",
    "        if i%10 == 9:\n",
    "            soln = sudokuSolver([int(s) for s in board])\n",
    "            print('Puzzle ' + str(count) + ' solved!')\n",
    "            totSum += 100*soln[0] + 10*soln[1] + soln[2]\n",
    "            count += 1"
   ]
  },
  {
   "cell_type": "code",
   "execution_count": 34,
   "id": "e42cf5c3-9bad-4974-9cbf-0655c360eee2",
   "metadata": {},
   "outputs": [
    {
     "data": {
      "text/plain": [
       "24702"
      ]
     },
     "execution_count": 34,
     "metadata": {},
     "output_type": "execute_result"
    }
   ],
   "source": [
    "totSum"
   ]
  },
  {
   "cell_type": "code",
   "execution_count": null,
   "id": "1bb04cfc-6f73-4ee3-ac20-ad9c8db0dd82",
   "metadata": {},
   "outputs": [],
   "source": []
  }
 ],
 "metadata": {
  "kernelspec": {
   "display_name": "Python 3.8 (XPython)",
   "language": "python",
   "name": "xpython"
  },
  "language_info": {
   "file_extension": ".py",
   "mimetype": "text/x-python",
   "name": "python",
   "version": "3.8.10"
  }
 },
 "nbformat": 4,
 "nbformat_minor": 5
}
