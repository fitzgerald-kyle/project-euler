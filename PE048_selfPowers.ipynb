{
 "cells": [
  {
   "cell_type": "markdown",
   "id": "d26c5695-bb63-4cc7-82fc-38b61c57ee8a",
   "metadata": {},
   "source": [
    "The series, 1^1 + 2^2 + 3^3 + ... + 10^10 = 10405071317.\n",
    "\n",
    "Find the last ten digits of the series, 1^1 + 2^2 + 3^3 + ... + 1000^1000."
   ]
  },
  {
   "cell_type": "code",
   "execution_count": 1,
   "id": "2445cb88-a656-4735-bb93-cd2d58b20543",
   "metadata": {},
   "outputs": [],
   "source": [
    "# We'll just keep the last ten digits every time we do a calcuation.\n",
    "\n",
    "sumTot = 0\n",
    "for n in range(1,1001):\n",
    "    prodTot = 1\n",
    "    for _ in range(n):\n",
    "        prodTot *= n\n",
    "        prodTot %= int(1e10)\n",
    "        \n",
    "    sumTot += prodTot\n",
    "    sumTot %= int(1e10)"
   ]
  },
  {
   "cell_type": "code",
   "execution_count": 2,
   "id": "25438cd8-0336-40f5-8a11-92f39a728833",
   "metadata": {},
   "outputs": [
    {
     "data": {
      "text/plain": [
       "9110846700"
      ]
     },
     "execution_count": 2,
     "metadata": {},
     "output_type": "execute_result"
    }
   ],
   "source": [
    "sumTot"
   ]
  },
  {
   "cell_type": "code",
   "execution_count": null,
   "id": "9b3a56af-99d7-40c3-a4e0-b240560d7fba",
   "metadata": {},
   "outputs": [],
   "source": []
  }
 ],
 "metadata": {
  "kernelspec": {
   "display_name": "Python 3",
   "language": "python",
   "name": "python3"
  },
  "language_info": {
   "codemirror_mode": {
    "name": "ipython",
    "version": 3
   },
   "file_extension": ".py",
   "mimetype": "text/x-python",
   "name": "python",
   "nbconvert_exporter": "python",
   "pygments_lexer": "ipython3",
   "version": "3.8.8"
  }
 },
 "nbformat": 4,
 "nbformat_minor": 5
}
