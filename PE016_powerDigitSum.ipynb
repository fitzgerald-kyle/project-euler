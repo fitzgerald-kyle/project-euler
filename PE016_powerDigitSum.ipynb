{
 "cells": [
  {
   "cell_type": "markdown",
   "id": "e0f9edf3-47cd-4720-ab94-1856606f1f93",
   "metadata": {},
   "source": [
    "2^15 = 32768 and the sum of its digits is 3 + 2 + 7 + 6 + 8 = 26.\n",
    "\n",
    "What is the sum of the digits of the number 2^1000?"
   ]
  },
  {
   "cell_type": "code",
   "execution_count": 2,
   "id": "b97e2bb8-6692-49f4-aafc-a60d0501fdb2",
   "metadata": {},
   "outputs": [],
   "source": [
    "# I already wrote this comment on problem 20 because I did them out of order...\n",
    "# but fortunately/unfortunately I can benefit from using Python. Use the tools you have to your advantage, right?\n",
    "digits = [int(s) for s in str(2**1000)]"
   ]
  },
  {
   "cell_type": "code",
   "execution_count": 3,
   "id": "e207aac0-4b5c-4bee-a550-727ab29ec564",
   "metadata": {},
   "outputs": [
    {
     "data": {
      "text/plain": [
       "1366"
      ]
     },
     "execution_count": 3,
     "metadata": {},
     "output_type": "execute_result"
    }
   ],
   "source": [
    "sum(digits)"
   ]
  },
  {
   "cell_type": "code",
   "execution_count": null,
   "id": "5d645c8e-9b46-466e-9647-e166bc80d2d0",
   "metadata": {},
   "outputs": [],
   "source": []
  }
 ],
 "metadata": {
  "kernelspec": {
   "display_name": "Python 3",
   "language": "python",
   "name": "python3"
  },
  "language_info": {
   "codemirror_mode": {
    "name": "ipython",
    "version": 3
   },
   "file_extension": ".py",
   "mimetype": "text/x-python",
   "name": "python",
   "nbconvert_exporter": "python",
   "pygments_lexer": "ipython3",
   "version": "3.8.8"
  }
 },
 "nbformat": 4,
 "nbformat_minor": 5
}
