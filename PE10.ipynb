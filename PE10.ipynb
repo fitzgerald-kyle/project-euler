{
 "cells": [
  {
   "cell_type": "markdown",
   "id": "322cbfc0-0ada-41eb-b967-8bcdec52ef98",
   "metadata": {},
   "source": [
    "The sum of the primes below 10 is 2 + 3 + 5 + 7 = 17.\n",
    "\n",
    "Find the sum of all the primes below two million."
   ]
  },
  {
   "cell_type": "code",
   "execution_count": 64,
   "id": "235f925f-48e9-47a1-87be-6cee9547776f",
   "metadata": {},
   "outputs": [],
   "source": [
    "import nbimporter\n",
    "from PE3 import largestPrimeFactor\n",
    "import math\n",
    "import time"
   ]
  },
  {
   "cell_type": "code",
   "execution_count": 66,
   "id": "22c652b4-52bd-4fea-8d09-6e06ace19a64",
   "metadata": {},
   "outputs": [],
   "source": [
    " def isPrime(n): # assumes n is a natural number that is not 1 or even, for speed\n",
    "    max_div = math.floor(math.sqrt(n))\n",
    "    for i in range(3, 1 + max_div, 2):\n",
    "        if n % i == 0:\n",
    "            return False\n",
    "    return True"
   ]
  },
  {
   "cell_type": "code",
   "execution_count": 67,
   "id": "9c37dff6-61fc-4bdc-842e-530ef148eac3",
   "metadata": {},
   "outputs": [
    {
     "name": "stdout",
     "output_type": "stream",
     "text": [
      "0.052349090576171875\n"
     ]
    }
   ],
   "source": [
    "upperBound = 2e4\n",
    "\n",
    "# start at 5 for the heck of it\n",
    "primeList = [2,3]\n",
    "currNum = 5\n",
    "while currNum < upperBound:\n",
    "    if isPrime(currNum):\n",
    "        primeList.append(currNum)\n",
    "    currNum += 2\n",
    "    \n",
    "primeSum = sum(primeList)"
   ]
  },
  {
   "cell_type": "code",
   "execution_count": 68,
   "id": "3fc2e365-3c67-4123-a9a1-e35d20c83cb0",
   "metadata": {},
   "outputs": [
    {
     "data": {
      "text/plain": [
       "21171191"
      ]
     },
     "execution_count": 68,
     "metadata": {},
     "output_type": "execute_result"
    }
   ],
   "source": [
    "primeSum"
   ]
  },
  {
   "cell_type": "code",
   "execution_count": 25,
   "id": "9deab86a-565f-4ee9-84fa-f3d294e37062",
   "metadata": {},
   "outputs": [
    {
     "data": {
      "text/plain": [
       "[0, 1]"
      ]
     },
     "execution_count": 25,
     "metadata": {},
     "output_type": "execute_result"
    }
   ],
   "source": [
    "primeList = [2,3,5,7]\n",
    "currNum = 16\n",
    "[currNum % p for p in primeList if p <= math.sqrt(currNum)]"
   ]
  }
 ],
 "metadata": {
  "kernelspec": {
   "display_name": "Python 3",
   "language": "python",
   "name": "python3"
  },
  "language_info": {
   "codemirror_mode": {
    "name": "ipython",
    "version": 3
   },
   "file_extension": ".py",
   "mimetype": "text/x-python",
   "name": "python",
   "nbconvert_exporter": "python",
   "pygments_lexer": "ipython3",
   "version": "3.8.8"
  }
 },
 "nbformat": 4,
 "nbformat_minor": 5
}
