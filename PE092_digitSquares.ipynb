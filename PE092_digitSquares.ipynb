{
 "cells": [
  {
   "cell_type": "markdown",
   "id": "cbc506d5-3b0d-4832-a633-b124a317e141",
   "metadata": {},
   "source": [
    "A number chain is created by continuously adding the square of the digits in a number to form a new number until it has been seen before.\n",
    "\n",
    "For example,\n",
    "\n",
    "44 → 32 → 13 → 10 → 1 → 1\n",
    "\n",
    "85 → 89 → 145 → 42 → 20 → 4 → 16 → 37 → 58 → 89\n",
    "\n",
    "Therefore any chain that arrives at 1 or 89 will become stuck in an endless loop. What is most amazing is that EVERY starting number will eventually arrive at 1 or 89.\n",
    "\n",
    "How many starting numbers below ten million will arrive at 89?"
   ]
  },
  {
   "cell_type": "code",
   "execution_count": 21,
   "id": "979c132c-c3bd-4a28-a1e5-92678786af23",
   "metadata": {},
   "outputs": [],
   "source": [
    "maxVal = int(1e7)\n",
    "\n",
    "seen1 = set([1])\n",
    "seen89 = set([89])\n",
    "count89 = 1\n",
    "for n in range(1,maxVal):\n",
    "    currVal = n\n",
    "    unseen = set()  # store ALL unseen numbers that we encounter here, even if they're larger than maxVal\n",
    "    unseenSmallEnough = set()  # store only the unseen numbers smaller than maxVal (for counting purposes)\n",
    "    while (currVal not in seen1) and (currVal not in seen89):\n",
    "        unseen.add(currVal)\n",
    "        if currVal <= maxVal:\n",
    "            unseenSmallEnough.add(currVal)\n",
    "        \n",
    "        currVal = sum([int(s)*int(s) for s in str(currVal)])  # store the sum of squared digits\n",
    "        if currVal in seen1:\n",
    "            seen1.update(unseen)\n",
    "        elif currVal in seen89:\n",
    "            seen89.update(unseen)\n",
    "            count89 += len(unseenSmallEnough)"
   ]
  },
  {
   "cell_type": "code",
   "execution_count": 22,
   "id": "cf282477-5999-4b43-b7bd-1113b431d313",
   "metadata": {},
   "outputs": [
    {
     "data": {
      "text/plain": [
       "8581146"
      ]
     },
     "execution_count": 22,
     "metadata": {},
     "output_type": "execute_result"
    }
   ],
   "source": [
    "count89"
   ]
  },
  {
   "cell_type": "code",
   "execution_count": null,
   "id": "56894e91-f50a-411c-91da-f30a8776ade6",
   "metadata": {},
   "outputs": [],
   "source": []
  }
 ],
 "metadata": {
  "kernelspec": {
   "display_name": "Python 3",
   "language": "python",
   "name": "python3"
  },
  "language_info": {
   "codemirror_mode": {
    "name": "ipython",
    "version": 3
   },
   "file_extension": ".py",
   "mimetype": "text/x-python",
   "name": "python",
   "nbconvert_exporter": "python",
   "pygments_lexer": "ipython3",
   "version": "3.8.8"
  }
 },
 "nbformat": 4,
 "nbformat_minor": 5
}
