{
 "cells": [
  {
   "cell_type": "markdown",
   "id": "ae796b56-abc8-47da-b804-eb65674402cb",
   "metadata": {},
   "source": [
    "A palindromic number reads the same both ways. The largest palindrome made from the product of two 2-digit numbers is 9009 = 91 × 99.\n",
    "\n",
    "Find the largest palindrome made from the product of two 3-digit numbers."
   ]
  },
  {
   "cell_type": "code",
   "execution_count": 7,
   "id": "10f0fcc8-5408-431d-ac97-b5ca4bbb7e6b",
   "metadata": {},
   "outputs": [],
   "source": [
    "def largestPal():\n",
    "    largestResult = 0\n",
    "    for i in range(999,1,-1):\n",
    "        #determine the smallest number that could still create a 6-digit result\n",
    "        smallest = int(1e5 / i)\n",
    "        for j in range(999,smallest,-1):\n",
    "            result = i*j\n",
    "            strResult = str(result)\n",
    "            if (strResult[:3] == strResult[3:][::-1]) and result > largestResult:\n",
    "                largestResult = result\n",
    "                \n",
    "    return largestResult"
   ]
  },
  {
   "cell_type": "code",
   "execution_count": 8,
   "id": "c4818c68-0ccf-4b46-b87e-240c935b3dcf",
   "metadata": {},
   "outputs": [
    {
     "data": {
      "text/plain": [
       "906609"
      ]
     },
     "execution_count": 8,
     "metadata": {},
     "output_type": "execute_result"
    }
   ],
   "source": [
    "largestPal()"
   ]
  },
  {
   "cell_type": "code",
   "execution_count": null,
   "id": "3d0a2631-4c80-482d-8295-54b51bb092e1",
   "metadata": {},
   "outputs": [],
   "source": []
  }
 ],
 "metadata": {
  "kernelspec": {
   "display_name": "Python 3",
   "language": "python",
   "name": "python3"
  },
  "language_info": {
   "codemirror_mode": {
    "name": "ipython",
    "version": 3
   },
   "file_extension": ".py",
   "mimetype": "text/x-python",
   "name": "python",
   "nbconvert_exporter": "python",
   "pygments_lexer": "ipython3",
   "version": "3.8.8"
  }
 },
 "nbformat": 4,
 "nbformat_minor": 5
}
